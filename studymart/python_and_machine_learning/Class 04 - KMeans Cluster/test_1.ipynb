{
 "cells": [
  {
   "cell_type": "code",
   "execution_count": 1,
   "id": "0dce6f77-5a4e-490a-9a54-236c22cb2eb0",
   "metadata": {},
   "outputs": [],
   "source": [
    "import pandas as pd\n",
    "import matplotlib.pyplot as plt\n",
    "import seaborn as sns"
   ]
  },
  {
   "cell_type": "code",
   "execution_count": 2,
   "id": "1dcd194b-6b0c-459e-83a9-1a2628cf7b62",
   "metadata": {},
   "outputs": [],
   "source": [
    "df = pd.read_csv(\"mall customers.csv\")\n"
   ]
  },
  {
   "cell_type": "code",
   "execution_count": 2,
   "id": "0cdf70ca-971d-43fa-9826-c360bf35c016",
   "metadata": {},
   "outputs": [
    {
     "ename": "NameError",
     "evalue": "name 'df' is not defined",
     "output_type": "error",
     "traceback": [
      "\u001b[1;31m---------------------------------------------------------------------------\u001b[0m",
      "\u001b[1;31mNameError\u001b[0m                                 Traceback (most recent call last)",
      "Cell \u001b[1;32mIn[2], line 1\u001b[0m\n\u001b[1;32m----> 1\u001b[0m \u001b[43mdf\u001b[49m\u001b[38;5;241m.\u001b[39mhead()\n",
      "\u001b[1;31mNameError\u001b[0m: name 'df' is not defined"
     ]
    }
   ],
   "source": [
    "df.head()"
   ]
  },
  {
   "cell_type": "code",
   "execution_count": 4,
   "id": "29294198-4eef-4749-ac41-33ea96f87962",
   "metadata": {},
   "outputs": [],
   "source": [
    "df = df.drop('CustomerID', axis=1)"
   ]
  },
  {
   "cell_type": "code",
   "execution_count": 5,
   "id": "0961fb55-bd2e-4673-b31d-72fc4f424105",
   "metadata": {},
   "outputs": [
    {
     "data": {
      "text/html": [
       "<div>\n",
       "<style scoped>\n",
       "    .dataframe tbody tr th:only-of-type {\n",
       "        vertical-align: middle;\n",
       "    }\n",
       "\n",
       "    .dataframe tbody tr th {\n",
       "        vertical-align: top;\n",
       "    }\n",
       "\n",
       "    .dataframe thead th {\n",
       "        text-align: right;\n",
       "    }\n",
       "</style>\n",
       "<table border=\"1\" class=\"dataframe\">\n",
       "  <thead>\n",
       "    <tr style=\"text-align: right;\">\n",
       "      <th></th>\n",
       "      <th>Gender</th>\n",
       "      <th>Age</th>\n",
       "      <th>Annual Income (k$)</th>\n",
       "      <th>Spending Score (1-100)</th>\n",
       "    </tr>\n",
       "  </thead>\n",
       "  <tbody>\n",
       "    <tr>\n",
       "      <th>0</th>\n",
       "      <td>Male</td>\n",
       "      <td>19</td>\n",
       "      <td>15</td>\n",
       "      <td>39</td>\n",
       "    </tr>\n",
       "    <tr>\n",
       "      <th>1</th>\n",
       "      <td>Male</td>\n",
       "      <td>21</td>\n",
       "      <td>15</td>\n",
       "      <td>81</td>\n",
       "    </tr>\n",
       "    <tr>\n",
       "      <th>2</th>\n",
       "      <td>Female</td>\n",
       "      <td>20</td>\n",
       "      <td>16</td>\n",
       "      <td>6</td>\n",
       "    </tr>\n",
       "    <tr>\n",
       "      <th>3</th>\n",
       "      <td>Female</td>\n",
       "      <td>23</td>\n",
       "      <td>16</td>\n",
       "      <td>77</td>\n",
       "    </tr>\n",
       "    <tr>\n",
       "      <th>4</th>\n",
       "      <td>Female</td>\n",
       "      <td>31</td>\n",
       "      <td>17</td>\n",
       "      <td>40</td>\n",
       "    </tr>\n",
       "  </tbody>\n",
       "</table>\n",
       "</div>"
      ],
      "text/plain": [
       "   Gender  Age  Annual Income (k$)  Spending Score (1-100)\n",
       "0    Male   19                  15                      39\n",
       "1    Male   21                  15                      81\n",
       "2  Female   20                  16                       6\n",
       "3  Female   23                  16                      77\n",
       "4  Female   31                  17                      40"
      ]
     },
     "execution_count": 5,
     "metadata": {},
     "output_type": "execute_result"
    }
   ],
   "source": [
    "df.head()"
   ]
  },
  {
   "cell_type": "code",
   "execution_count": 6,
   "id": "173d2d3b-faf0-4cbe-91c1-11c02e1e31b7",
   "metadata": {},
   "outputs": [],
   "source": [
    "df = df.rename(columns = {'Gender':'gender','Age':'age', 'Annual Income (k$)':'income','Spending Score (1-100)':'score'})"
   ]
  },
  {
   "cell_type": "code",
   "execution_count": 7,
   "id": "b109d815-665a-4969-ab6f-2f5fc8b2919c",
   "metadata": {},
   "outputs": [
    {
     "data": {
      "text/html": [
       "<div>\n",
       "<style scoped>\n",
       "    .dataframe tbody tr th:only-of-type {\n",
       "        vertical-align: middle;\n",
       "    }\n",
       "\n",
       "    .dataframe tbody tr th {\n",
       "        vertical-align: top;\n",
       "    }\n",
       "\n",
       "    .dataframe thead th {\n",
       "        text-align: right;\n",
       "    }\n",
       "</style>\n",
       "<table border=\"1\" class=\"dataframe\">\n",
       "  <thead>\n",
       "    <tr style=\"text-align: right;\">\n",
       "      <th></th>\n",
       "      <th>gender</th>\n",
       "      <th>age</th>\n",
       "      <th>income</th>\n",
       "      <th>score</th>\n",
       "    </tr>\n",
       "  </thead>\n",
       "  <tbody>\n",
       "    <tr>\n",
       "      <th>0</th>\n",
       "      <td>Male</td>\n",
       "      <td>19</td>\n",
       "      <td>15</td>\n",
       "      <td>39</td>\n",
       "    </tr>\n",
       "    <tr>\n",
       "      <th>1</th>\n",
       "      <td>Male</td>\n",
       "      <td>21</td>\n",
       "      <td>15</td>\n",
       "      <td>81</td>\n",
       "    </tr>\n",
       "    <tr>\n",
       "      <th>2</th>\n",
       "      <td>Female</td>\n",
       "      <td>20</td>\n",
       "      <td>16</td>\n",
       "      <td>6</td>\n",
       "    </tr>\n",
       "    <tr>\n",
       "      <th>3</th>\n",
       "      <td>Female</td>\n",
       "      <td>23</td>\n",
       "      <td>16</td>\n",
       "      <td>77</td>\n",
       "    </tr>\n",
       "    <tr>\n",
       "      <th>4</th>\n",
       "      <td>Female</td>\n",
       "      <td>31</td>\n",
       "      <td>17</td>\n",
       "      <td>40</td>\n",
       "    </tr>\n",
       "  </tbody>\n",
       "</table>\n",
       "</div>"
      ],
      "text/plain": [
       "   gender  age  income  score\n",
       "0    Male   19      15     39\n",
       "1    Male   21      15     81\n",
       "2  Female   20      16      6\n",
       "3  Female   23      16     77\n",
       "4  Female   31      17     40"
      ]
     },
     "execution_count": 7,
     "metadata": {},
     "output_type": "execute_result"
    }
   ],
   "source": [
    "df.head()"
   ]
  },
  {
   "cell_type": "code",
   "execution_count": 8,
   "id": "4a40a86e-0f1f-4831-ba72-9bb7217be92a",
   "metadata": {},
   "outputs": [],
   "source": [
    "df1=df.copy()\n",
    "df2 = df.copy()"
   ]
  },
  {
   "cell_type": "code",
   "execution_count": 9,
   "id": "bb62d1c3-1e1f-455a-9d7b-8a30bba2f4b3",
   "metadata": {},
   "outputs": [
    {
     "data": {
      "text/plain": [
       "(200, 4)"
      ]
     },
     "execution_count": 9,
     "metadata": {},
     "output_type": "execute_result"
    }
   ],
   "source": [
    "df.shape"
   ]
  },
  {
   "cell_type": "code",
   "execution_count": 10,
   "id": "1c8006fd-13fd-4917-ae27-edd2f86fd65e",
   "metadata": {},
   "outputs": [
    {
     "data": {
      "text/html": [
       "<div>\n",
       "<style scoped>\n",
       "    .dataframe tbody tr th:only-of-type {\n",
       "        vertical-align: middle;\n",
       "    }\n",
       "\n",
       "    .dataframe tbody tr th {\n",
       "        vertical-align: top;\n",
       "    }\n",
       "\n",
       "    .dataframe thead th {\n",
       "        text-align: right;\n",
       "    }\n",
       "</style>\n",
       "<table border=\"1\" class=\"dataframe\">\n",
       "  <thead>\n",
       "    <tr style=\"text-align: right;\">\n",
       "      <th></th>\n",
       "      <th>age</th>\n",
       "      <th>income</th>\n",
       "      <th>score</th>\n",
       "    </tr>\n",
       "  </thead>\n",
       "  <tbody>\n",
       "    <tr>\n",
       "      <th>count</th>\n",
       "      <td>200.000000</td>\n",
       "      <td>200.000000</td>\n",
       "      <td>200.000000</td>\n",
       "    </tr>\n",
       "    <tr>\n",
       "      <th>mean</th>\n",
       "      <td>38.850000</td>\n",
       "      <td>60.560000</td>\n",
       "      <td>50.200000</td>\n",
       "    </tr>\n",
       "    <tr>\n",
       "      <th>std</th>\n",
       "      <td>13.969007</td>\n",
       "      <td>26.264721</td>\n",
       "      <td>25.823522</td>\n",
       "    </tr>\n",
       "    <tr>\n",
       "      <th>min</th>\n",
       "      <td>18.000000</td>\n",
       "      <td>15.000000</td>\n",
       "      <td>1.000000</td>\n",
       "    </tr>\n",
       "    <tr>\n",
       "      <th>25%</th>\n",
       "      <td>28.750000</td>\n",
       "      <td>41.500000</td>\n",
       "      <td>34.750000</td>\n",
       "    </tr>\n",
       "    <tr>\n",
       "      <th>50%</th>\n",
       "      <td>36.000000</td>\n",
       "      <td>61.500000</td>\n",
       "      <td>50.000000</td>\n",
       "    </tr>\n",
       "    <tr>\n",
       "      <th>75%</th>\n",
       "      <td>49.000000</td>\n",
       "      <td>78.000000</td>\n",
       "      <td>73.000000</td>\n",
       "    </tr>\n",
       "    <tr>\n",
       "      <th>max</th>\n",
       "      <td>70.000000</td>\n",
       "      <td>137.000000</td>\n",
       "      <td>99.000000</td>\n",
       "    </tr>\n",
       "  </tbody>\n",
       "</table>\n",
       "</div>"
      ],
      "text/plain": [
       "              age      income       score\n",
       "count  200.000000  200.000000  200.000000\n",
       "mean    38.850000   60.560000   50.200000\n",
       "std     13.969007   26.264721   25.823522\n",
       "min     18.000000   15.000000    1.000000\n",
       "25%     28.750000   41.500000   34.750000\n",
       "50%     36.000000   61.500000   50.000000\n",
       "75%     49.000000   78.000000   73.000000\n",
       "max     70.000000  137.000000   99.000000"
      ]
     },
     "execution_count": 10,
     "metadata": {},
     "output_type": "execute_result"
    }
   ],
   "source": [
    "df.describe()"
   ]
  },
  {
   "cell_type": "code",
   "execution_count": 3,
   "id": "73b4885e-46b1-4e54-96bf-55c7ddef91ea",
   "metadata": {},
   "outputs": [
    {
     "ename": "NameError",
     "evalue": "name 'df' is not defined",
     "output_type": "error",
     "traceback": [
      "\u001b[1;31m---------------------------------------------------------------------------\u001b[0m",
      "\u001b[1;31mNameError\u001b[0m                                 Traceback (most recent call last)",
      "Cell \u001b[1;32mIn[3], line 3\u001b[0m\n\u001b[0;32m      1\u001b[0m \u001b[38;5;28;01mimport\u001b[39;00m \u001b[38;5;21;01mmatplotlib\u001b[39;00m\u001b[38;5;21;01m.\u001b[39;00m\u001b[38;5;21;01mpyplot\u001b[39;00m \u001b[38;5;28;01mas\u001b[39;00m \u001b[38;5;21;01mplt\u001b[39;00m\n\u001b[0;32m      2\u001b[0m \u001b[38;5;28;01mimport\u001b[39;00m \u001b[38;5;21;01mpandas\u001b[39;00m \u001b[38;5;28;01mas\u001b[39;00m \u001b[38;5;21;01mpd\u001b[39;00m\n\u001b[1;32m----> 3\u001b[0m plt\u001b[38;5;241m.\u001b[39mscatter(\u001b[43mdf\u001b[49m\u001b[38;5;241m.\u001b[39mage,df\u001b[38;5;241m.\u001b[39mincome)\n",
      "\u001b[1;31mNameError\u001b[0m: name 'df' is not defined"
     ]
    }
   ],
   "source": [
    "import matplotlib.pyplot as plt\n",
    "import pandas as pd\n",
    "\n",
    "df = pd.read_csv('mall customers.csv')\n",
    "plt.scatter(df.age,df.income)"
   ]
  },
  {
   "cell_type": "code",
   "execution_count": 12,
   "id": "d696502e-da57-440d-8241-a97f5289bc3d",
   "metadata": {},
   "outputs": [
    {
     "data": {
      "text/plain": [
       "Text(0.5, 1.0, 'Age and Score plot')"
      ]
     },
     "execution_count": 12,
     "metadata": {},
     "output_type": "execute_result"
    },
    {
     "data": {
      "image/png": "[encoded data removed]",
      "text/plain": [
       "<Figure size 640x480 with 1 Axes>"
      ]
     },
     "metadata": {},
     "output_type": "display_data"
    }
   ],
   "source": [
    "plt.scatter(df.score,df.income,color=\"black\")\n",
    "plt.xlabel('Score in(1 to 100)')\n",
    "plt.ylabel('Income')\n",
    "plt.title('Age and Score plot')"
   ]
  },
  {
   "cell_type": "code",
   "execution_count": 1,
   "id": "77380218-290c-42a0-9fbb-2fc727ff18c3",
   "metadata": {},
   "outputs": [
    {
     "ename": "NameError",
     "evalue": "name 'plt' is not defined",
     "output_type": "error",
     "traceback": [
      "\u001b[1;31m---------------------------------------------------------------------------\u001b[0m",
      "\u001b[1;31mNameError\u001b[0m                                 Traceback (most recent call last)",
      "Cell \u001b[1;32mIn[1], line 1\u001b[0m\n\u001b[1;32m----> 1\u001b[0m \u001b[43mplt\u001b[49m\u001b[38;5;241m.\u001b[39mscatter(df\u001b[38;5;241m.\u001b[39mscore,df\u001b[38;5;241m.\u001b[39mincome,color\u001b[38;5;241m=\u001b[39m\u001b[38;5;124m\"\u001b[39m\u001b[38;5;124mblack\u001b[39m\u001b[38;5;124m\"\u001b[39m)\n\u001b[0;32m      2\u001b[0m plt\u001b[38;5;241m.\u001b[39mxlabel(\u001b[38;5;124m'\u001b[39m\u001b[38;5;124mScore in(1 to 100)\u001b[39m\u001b[38;5;124m'\u001b[39m)\n\u001b[0;32m      3\u001b[0m plt\u001b[38;5;241m.\u001b[39mylable(\u001b[38;5;124m'\u001b[39m\u001b[38;5;124mIncome\u001b[39m\u001b[38;5;124m'\u001b[39m)\n",
      "\u001b[1;31mNameError\u001b[0m: name 'plt' is not defined"
     ]
    }
   ],
   "source": [
    "plt.scatter(df.score,df.income,color=\"black\")\n",
    "plt.xlabel('Score in(1 to 100)')\n",
    "plt.ylable('Income')\n",
    "plt.title('Age and Score plot')"
   ]
  },
  {
   "cell_type": "code",
   "execution_count": null,
   "id": "747c5059-f382-4393-b999-55bbe92e0084",
   "metadata": {},
   "outputs": [],
   "source": [
    "plt.scatter(df.score,df.income,color=\"black\")\n",
    "plt.xlabel('Score in(1 to 100)')\n",
    "plt.ylabel('Income')\n",
    "plt.title('Age and Score plot')"
   ]
  },
  {
   "cell_type": "code",
   "execution_count": null,
   "id": "49420712-0390-4cd9-8a25-88261bd9b056",
   "metadata": {},
   "outputs": [],
   "source": [
    "sns.pairplot(df[['age','income','score']])"
   ]
  },
  {
   "cell_type": "code",
   "execution_count": null,
   "id": "b186f717-7cab-4eb2-9b67-6518cd498e04",
   "metadata": {},
   "outputs": [],
   "source": [
    "plt.scatter(df.score, df.income, color=\"black\")\n",
    "plt.xlabel('Score in (1 to 100)')\n",
    "plt.ylabel('Income')\n",
    "plt.title('Age and Score plot')"
   ]
  },
  {
   "cell_type": "markdown",
   "id": "ba6bf096-609d-42d9-930e-8bf2cf800ea1",
   "metadata": {},
   "source": [
    "K-Means Cluster"
   ]
  },
  {
   "cell_type": "code",
   "execution_count": null,
   "id": "26b607a4-b9a6-42f5-94d7-58173cedee1b",
   "metadata": {},
   "outputs": [],
   "source": [
    "from sklearn.cluster import KMeans"
   ]
  },
  {
   "cell_type": "code",
   "execution_count": null,
   "id": "f7c3b92d-0e51-4929-a849-259dc878f297",
   "metadata": {
    "scrolled": true
   },
   "outputs": [],
   "source": [
    "!pip install sklearn"
   ]
  },
  {
   "cell_type": "code",
   "execution_count": null,
   "id": "107d30df-b5f6-4dc4-8383-86131091a790",
   "metadata": {},
   "outputs": [],
   "source": [
    "from sklearn.cluster import KMeans"
   ]
  },
  {
   "cell_type": "code",
   "execution_count": null,
   "id": "bb4b4cd3-9841-4260-9665-f365c9e8c3c7",
   "metadata": {},
   "outputs": [],
   "source": [
    "km = KMeans(n_clusters=8) #creating kmeans object"
   ]
  },
  {
   "cell_type": "code",
   "execution_count": null,
   "id": "46103b7c-6d8f-4ed8-a810-2efb5e6020d5",
   "metadata": {},
   "outputs": [],
   "source": [
    "km.fit(df[['score','income']]) #fit()-> traning the ml model"
   ]
  },
  {
   "cell_type": "code",
   "execution_count": null,
   "id": "a5737acd-08aa-4514-98d2-7baf53633f4e",
   "metadata": {},
   "outputs": [],
   "source": [
    "df.head()"
   ]
  },
  {
   "cell_type": "code",
   "execution_count": null,
   "id": "fe0dbbc4-6ae0-4783-bac9-7f5c818a8f9f",
   "metadata": {},
   "outputs": [],
   "source": [
    "df['new_cluster1'] = km.predict(df[['score','income']])"
   ]
  },
  {
   "cell_type": "code",
   "execution_count": null,
   "id": "0094cef3-f110-48b8-b2f6-c5fe1aff8e01",
   "metadata": {},
   "outputs": [],
   "source": [
    "df.head()"
   ]
  },
  {
   "cell_type": "code",
   "execution_count": null,
   "id": "785f9730-0049-427c-9850-5edb7d7a90d0",
   "metadata": {},
   "outputs": [],
   "source": [
    "df0  = df[df.new_cluster1 ==0]\n",
    "df0.head()"
   ]
  },
  {
   "cell_type": "code",
   "execution_count": null,
   "id": "fbe68508-0652-40bb-b29b-d6826f38d825",
   "metadata": {},
   "outputs": [],
   "source": [
    "df1 = df[df.new_cluster1']"
   ]
  },
  {
   "cell_type": "code",
   "execution_count": null,
   "id": "bb9fd38c-c438-4498-b664-3f30d4139939",
   "metadata": {},
   "outputs": [],
   "source": [
    "df1 = df[df.new_cluster1 == 1]"
   ]
  },
  {
   "cell_type": "code",
   "execution_count": null,
   "id": "59d4dfe7-f24a-4e38-b135-8874c09e81e7",
   "metadata": {},
   "outputs": [],
   "source": [
    "df1.head()"
   ]
  },
  {
   "cell_type": "code",
   "execution_count": null,
   "id": "c722893a-3750-4da8-b83a-ad0e7ef03990",
   "metadata": {},
   "outputs": [],
   "source": [
    "df0.shape"
   ]
  },
  {
   "cell_type": "code",
   "execution_count": null,
   "id": "a90bbe53-c3c3-4300-99aa-a0c5ef9ae6db",
   "metadata": {},
   "outputs": [],
   "source": [
    "df1.shape"
   ]
  },
  {
   "cell_type": "code",
   "execution_count": null,
   "id": "18347b0b-2cb2-4d20-915a-989235b675ae",
   "metadata": {},
   "outputs": [],
   "source": [
    "df0 = df[df.new_cluster == 0]"
   ]
  },
  {
   "cell_type": "code",
   "execution_count": null,
   "id": "f5e44018-0aae-45c6-becd-ffe8943d8aba",
   "metadata": {},
   "outputs": [],
   "source": [
    "df0 = df[df.new_cluster1==0]"
   ]
  },
  {
   "cell_type": "code",
   "execution_count": null,
   "id": "c2a2d537-c4b3-40cb-ae4c-3a3f43a56489",
   "metadata": {},
   "outputs": [],
   "source": [
    "df0.head()"
   ]
  },
  {
   "cell_type": "code",
   "execution_count": null,
   "id": "07fe6b06-01f1-4ed3-8021-19f113ea7605",
   "metadata": {},
   "outputs": [],
   "source": [
    "df0.shape"
   ]
  },
  {
   "cell_type": "code",
   "execution_count": null,
   "id": "0fc818ad-e1b5-48c2-9702-c4fa84fa4402",
   "metadata": {},
   "outputs": [],
   "source": [
    "plt.scatter(df0.score,df0.income, color='black')\n",
    "plt.xlabel('Score in (1 to 100)')\n",
    "plt.ylabel('Income')\n",
    "plt.title('Age and Score plot')"
   ]
  },
  {
   "cell_type": "code",
   "execution_count": null,
   "id": "b546e743-c354-4ffe-8b95-5f9bc3cc12a8",
   "metadata": {},
   "outputs": [],
   "source": [
    "df0 = df[df.new_cluster1 == 0]\n",
    "df1 = df[df.new_cluster1 == 1]\n",
    "df2 = df[df.new_cluster1 == 2]\n",
    "df3 = df[df.new_cluster1 == 3]\n",
    "df4 = df[df.new_cluster1 == 4]\n",
    "df5 = df[df.new_cluster1 == 5]\n",
    "df6 = df[df.new_cluster1 == 6]\n",
    "df7 = df[df.new_cluster1 == 7]\n",
    "\n",
    "plt.figure(figsize = (10,8))\n",
    "\n",
    "plt.scatter(df0.score, df0.income, color='black', label='cluster 0')\n",
    "plt.scatter(df1.score, df1.income, color='yellow', label='cluster 1')\n",
    "plt.scatter(df2.score, df2.income, color='cyan', label='cluster 2')\n",
    "plt.scatter(df3.score, df3.income, color='magenta', label='cluster 3')\n",
    "plt.scatter(df4.score, df4.income, color='pink', label='cluster 4')\n",
    "plt.scatter(df5.score, df5.income, color='orange', label='cluster 5')\n",
    "plt.scatter(df6.score, df6.income, color='green', label='cluster 6')\n",
    "plt.scatter(df7.score, df7.income, color='blue', label='cluster 7')\n",
    "\n",
    "plt.xlabel('Score in (1 to 100)')\n",
    "plt.ylabel('Income')\n",
    "plt.title('Age and Score plot')\n",
    "\n",
    "plt.legend()\n",
    "plt.show()"
   ]
  },
  {
   "cell_type": "code",
   "execution_count": null,
   "id": "9bea17b7-13ac-4041-95eb-52d2438dcb1c",
   "metadata": {},
   "outputs": [],
   "source": [
    "center1  = km.cluster_centers_\n",
    "center1"
   ]
  },
  {
   "cell_type": "code",
   "execution_count": null,
   "id": "15049b5c-45a3-40ed-8ff6-ec1b6b88351e",
   "metadata": {},
   "outputs": [],
   "source": [
    "df0 = df[df.new_cluster1 == 0]\n",
    "df1 = df[df.new_cluster1 == 1]\n",
    "df2 = df[df.new_cluster1 == 2]\n",
    "df3 = df[df.new_cluster1 == 3]\n",
    "df4 = df[df.new_cluster1 == 4]\n",
    "df5 = df[df.new_cluster1 == 5]\n",
    "df6 = df[df.new_cluster1 == 6]\n",
    "df7 = df[df.new_cluster1 == 7]\n",
    "\n",
    "plt.figure(figsize = (10,8))\n",
    "\n",
    "plt.scatter(df0.score, df0.income, color='black', label='cluster 0')\n",
    "plt.scatter(df1.score, df1.income, color='yellow', label='cluster 1')\n",
    "plt.scatter(df2.score, df2.income, color='cyan', label='cluster 2')\n",
    "plt.scatter(df3.score, df3.income, color='magenta', label='cluster 3')\n",
    "plt.scatter(df4.score, df4.income, color='pink', label='cluster 4')\n",
    "plt.scatter(df5.score, df5.income, color='orange', label='cluster 5')\n",
    "plt.scatter(df6.score, df6.income, color='green', label='cluster 6')\n",
    "plt.scatter(df7.score, df7.income, color='blue', label='cluster 7')\n",
    "\n",
    "plt.scatter(center1[:,0], center1[:,1], color='red', marker='+')\n",
    "\n",
    "plt.xlabel('Score in (1 to 100)')\n",
    "plt.ylabel('Income')\n",
    "plt.title('Age and Score plot')\n",
    "\n",
    "plt.legend()\n",
    "plt.show()"
   ]
  },
  {
   "cell_type": "code",
   "execution_count": null,
   "id": "9ecf9265-a2f8-4b96-92d6-fba567559c75",
   "metadata": {},
   "outputs": [],
   "source": [
    "\n",
    "wcss = []\n",
    "\n",
    "clusters_range = range(1,15)\n",
    "for k in clusters_range:\n",
    "    km2 = KMeans(n_clusters=k)\n",
    "    km2.fit(df[['income','score']])\n",
    "    wcss.append(km2.inertia_) #Inertia is the WCSS value"
   ]
  },
  {
   "cell_type": "code",
   "execution_count": null,
   "id": "92a1a0bd-baa3-4a54-9eeb-53639033213e",
   "metadata": {},
   "outputs": [],
   "source": [
    "wcss"
   ]
  },
  {
   "cell_type": "code",
   "execution_count": null,
   "id": "6dde5476-5043-4580-a1b8-ed2bd4c04bfb",
   "metadata": {},
   "outputs": [],
   "source": [
    "plt.plot(clusters_range,wcss,marker = '0'"
   ]
  },
  {
   "cell_type": "code",
   "execution_count": null,
   "id": "c188a902-0c1f-47d8-9aac-dc8a3fedb8b3",
   "metadata": {},
   "outputs": [],
   "source": [
    "plt.plot(clusters_range,wcss,marker = 'o')"
   ]
  },
  {
   "cell_type": "code",
   "execution_count": null,
   "id": "ef171ff6-973e-4e5e-8c5b-bc4d31bdb23b",
   "metadata": {},
   "outputs": [],
   "source": [
    "plt.xlabel('Clusters')"
   ]
  },
  {
   "cell_type": "code",
   "execution_count": null,
   "id": "af88a0d5-96d7-4850-841a-9a71c62b1e99",
   "metadata": {},
   "outputs": [],
   "source": [
    "plt.plot(clusters_range, wcss, marker = 'o')\n",
    "plt.xlabel(\"Clusters\")"
   ]
  },
  {
   "cell_type": "code",
   "execution_count": null,
   "id": "9591df07-7a96-46cb-9f17-6d29dfb602a3",
   "metadata": {},
   "outputs": [],
   "source": [
    "!pip install kneed"
   ]
  },
  {
   "cell_type": "code",
   "execution_count": null,
   "id": "65c80f83-f572-4369-914a-404f711f1616",
   "metadata": {},
   "outputs": [],
   "source": [
    "from kneed import KneeLocator\n",
    "kn = KneeLocator(clusters_range, wcss, curve='convex', direction='decreasing')\n",
    "kn.plot_knee()"
   ]
  },
  {
   "cell_type": "markdown",
   "id": "a04a360e-eb0a-4296-b66a-b6813a6ab07d",
   "metadata": {},
   "source": [
    "After Optimizing"
   ]
  },
  {
   "cell_type": "code",
   "execution_count": null,
   "id": "bf91c4d6-8047-405e-8b30-e7c27ffb9630",
   "metadata": {},
   "outputs": [],
   "source": [
    "km3 = KMeans(n_clusters = 5) # createing kmeans object\n",
    "km3.fit(df[['score', 'income']]) #fit()-> traning the ml model\n",
    "KMeans(n_clusters = 5)"
   ]
  },
  {
   "cell_type": "code",
   "execution_count": null,
   "id": "bd1ea7f0-303c-4591-831c-f333af4ae40a",
   "metadata": {},
   "outputs": [],
   "source": [
    "df['optimize_clusters'] = km3.predict(df[['score', 'income']])\n",
    "df.head()"
   ]
  },
  {
   "cell_type": "code",
   "execution_count": 2,
   "id": "5d26e59e-01ca-4a5f-a577-08449538691a",
   "metadata": {},
   "outputs": [
    {
     "ename": "NameError",
     "evalue": "name 'km3' is not defined",
     "output_type": "error",
     "traceback": [
      "\u001b[1;31m---------------------------------------------------------------------------\u001b[0m",
      "\u001b[1;31mNameError\u001b[0m                                 Traceback (most recent call last)",
      "Cell \u001b[1;32mIn[2], line 1\u001b[0m\n\u001b[1;32m----> 1\u001b[0m center2 \u001b[38;5;241m=\u001b[39m \u001b[43mkm3\u001b[49m\u001b[38;5;241m.\u001b[39mcluster_centers_\n\u001b[0;32m      2\u001b[0m center2\n",
      "\u001b[1;31mNameError\u001b[0m: name 'km3' is not defined"
     ]
    }
   ],
   "source": [
    "center2 = km3.cluster_centers_\n",
    "center2"
   ]
  },
  {
   "cell_type": "code",
   "execution_count": null,
   "id": "e1c37bf4-fd4e-4b5e-ab00-0287b05eb3ac",
   "metadata": {},
   "outputs": [],
   "source": [
    "df0 = df[df.optimize_clusters == 0]\n",
    "df1 = df[df.optimize_clusters == 1]\n",
    "df2 = df[df.optimize_clusters == 2]\n",
    "df3 = df[df.optimize_clusters == 3]\n",
    "df4 = df[df.optimize_clusters == 4]\n",
    "\n",
    "\n",
    "plt.figure(figsize=(10,8))\n",
    "\n",
    "\n",
    "plt.scatter(df0.score, df0.income, color='black', label='cluster 0')\n",
    "plt.scatter(df1.score, df1.income, color='orange', label='cluster 1')\n",
    "plt.scatter(df2.score, df2.income, color='blue', label='cluster 2')\n",
    "plt.scatter(df3.score, df3.income, color='pink', label='cluster 3')\n",
    "plt.scatter(df4.score, df4.income, color='cyan', label='cluster 4')\n",
    "\n",
    "plt.scatter(center2[:,0], center2[:,1], color='red', marker='+')\n",
    "\n",
    "plt.xlabel('Score in (1 to 100)')\n",
    "plt.ylabel('Income')\n",
    "plt.title('Age and Score plot')\n",
    "\n",
    "plt.legend()\n",
    "plt.show()"
   ]
  },
  {
   "cell_type": "code",
   "execution_count": 1,
   "id": "714f9f6a-12ef-4079-ae6f-754f2b60614f",
   "metadata": {},
   "outputs": [
    {
     "ename": "NameError",
     "evalue": "name 'df' is not defined",
     "output_type": "error",
     "traceback": [
      "\u001b[1;31m---------------------------------------------------------------------------\u001b[0m",
      "\u001b[1;31mNameError\u001b[0m                                 Traceback (most recent call last)",
      "Cell \u001b[1;32mIn[1], line 1\u001b[0m\n\u001b[1;32m----> 1\u001b[0m df0  \u001b[38;5;241m=\u001b[39m \u001b[43mdf\u001b[49m[df\u001b[38;5;241m.\u001b[39mnew_cluster1 \u001b[38;5;241m==\u001b[39m\u001b[38;5;241m0\u001b[39m]\n\u001b[0;32m      2\u001b[0m df0\u001b[38;5;241m.\u001b[39mhead()\n",
      "\u001b[1;31mNameError\u001b[0m: name 'df' is not defined"
     ]
    }
   ],
   "source": [
    "df0  = df[df.new_cluster1 ==0]\n",
    "df0.head()"
   ]
  },
  {
   "cell_type": "code",
   "execution_count": null,
   "id": "c83e2e33-b283-477c-ae92-318dfa1191db",
   "metadata": {},
   "outputs": [],
   "source": []
  },
  {
   "cell_type": "code",
   "execution_count": null,
   "id": "f2be5443-2683-4d21-9746-286976531281",
   "metadata": {},
   "outputs": [],
   "source": []
  },
  {
   "cell_type": "code",
   "execution_count": null,
   "id": "22cdefa4-e4f6-4510-833c-35ae277019a4",
   "metadata": {},
   "outputs": [],
   "source": []
  }
 ],
 "metadata": {
  "kernelspec": {
   "display_name": "Python 3 (ipykernel)",
   "language": "python",
   "name": "python3"
  },
  "language_info": {
   "codemirror_mode": {
    "name": "ipython",
    "version": 3
   },
   "file_extension": ".py",
   "mimetype": "text/x-python",
   "name": "python",
   "nbconvert_exporter": "python",
   "pygments_lexer": "ipython3",
   "version": "3.11.4"
  }
 },
 "nbformat": 4,
 "nbformat_minor": 5
}
